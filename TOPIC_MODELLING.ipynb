{
  "nbformat": 4,
  "nbformat_minor": 0,
  "metadata": {
    "colab": {
      "provenance": [],
      "include_colab_link": true
    },
    "kernelspec": {
      "name": "python3",
      "display_name": "Python 3"
    }
  },
  "cells": [
    {
      "cell_type": "markdown",
      "metadata": {
        "id": "view-in-github",
        "colab_type": "text"
      },
      "source": [
        "<a href=\"https://colab.research.google.com/github/blanco-herrero/Interviews/blob/main/TOPIC_MODELLING.ipynb\" target=\"_parent\"><img src=\"https://colab.research.google.com/assets/colab-badge.svg\" alt=\"Open In Colab\"/></a>"
      ]
    },
    {
      "cell_type": "code",
      "metadata": {
        "id": "NikL-0IsjGAz",
        "colab": {
          "base_uri": "https://localhost:8080/"
        },
        "outputId": "e0c4e28d-b2e2-47cb-eb18-0374767cfc4c"
      },
      "source": [
        "# Importing modules\n",
        "import pandas as pd\n",
        "import os\n",
        "from sklearn.feature_extraction.text import CountVectorizer\n",
        "import gensim\n",
        "from gensim import corpora\n",
        "from gensim import models\n",
        "from gensim import matutils\n",
        "from gensim.utils import simple_preprocess\n",
        "from gensim.models.ldamodel import LdaModel\n",
        "os.chdir('..')\n",
        "from glob import glob\n",
        "from string import punctuation\n",
        "import nltk\n",
        "from nltk.sentiment import vader\n",
        "from nltk.corpus import stopwords\n",
        "nltk.download('stopwords')\n",
        "from nltk.corpus import stopwords\n",
        "import warnings\n",
        "warnings.filterwarnings(\"ignore\", category=DeprecationWarning)"
      ],
      "execution_count": 1,
      "outputs": [
        {
          "output_type": "stream",
          "name": "stderr",
          "text": [
            "[nltk_data] Downloading package stopwords to /root/nltk_data...\n",
            "[nltk_data]   Unzipping corpora/stopwords.zip.\n"
          ]
        }
      ]
    },
    {
      "cell_type": "code",
      "metadata": {
        "id": "dmMus78kjz3l"
      },
      "source": [
        "# Upload the file\n",
        "from google.colab import files\n",
        "files.upload()"
      ],
      "execution_count": null,
      "outputs": []
    },
    {
      "cell_type": "code",
      "metadata": {
        "id": "aM2JCy9QkP3T"
      },
      "source": [
        "# Read data into an object\n",
        "entrevistas_df = pd.read_csv(\"Entrevistas.txt\", header= None, sep='\\t')\n",
        "entrevistas = entrevistas_df.T.squeeze()"
      ],
      "execution_count": 3,
      "outputs": []
    },
    {
      "cell_type": "code",
      "metadata": {
        "id": "bsEuOc4klPCI",
        "colab": {
          "base_uri": "https://localhost:8080/"
        },
        "outputId": "09caec2c-28ce-441f-fc2f-4722fa1dc4c7"
      },
      "source": [
        "# Print out the first rows of the file\n",
        "entrevistas"
      ],
      "execution_count": 4,
      "outputs": [
        {
          "output_type": "execute_result",
          "data": {
            "text/plain": [
              "0      Sí, claro. Yo creo que están en el día a día, ...\n",
              "1      Bueno, tendría que hacer memoria. La verdad es...\n",
              "2      Bueno, la verdad es que cuando dedicas espacio...\n",
              "3      La verdad es que hay, esto tiene que ver con l...\n",
              "4      Bueno, los que buscan enemigos, los que simpli...\n",
              "                             ...                        \n",
              "519    Honestamente, es un artículo que espero que le...\n",
              "520    Con las estadísticas, por ejemplo, me he hecho...\n",
              "521    Sí, escuchar, escuchar, escuchar. Como decían ...\n",
              "522    La movida gore, que yo no la meto normalmente ...\n",
              "523                                                   21\n",
              "Name: 0, Length: 524, dtype: object"
            ]
          },
          "metadata": {},
          "execution_count": 4
        }
      ]
    },
    {
      "cell_type": "code",
      "metadata": {
        "id": "SbNTZsTclbFT"
      },
      "source": [
        "# Remove the columns (if the case)\n",
        "# trans = trans.drop(columns=['id', 'location', 'language'], axis=1).sample(100)"
      ],
      "execution_count": 81,
      "outputs": []
    },
    {
      "cell_type": "code",
      "source": [
        "import re\n",
        "(lambda x: re.sub('[-–_–,:/.¡!¿?...]','', x))"
      ],
      "metadata": {
        "colab": {
          "base_uri": "https://localhost:8080/"
        },
        "id": "Vc-o9LkcxU5I",
        "outputId": "7d769cc7-117a-47de-e2b8-4afbec083705"
      },
      "execution_count": 6,
      "outputs": [
        {
          "output_type": "execute_result",
          "data": {
            "text/plain": [
              "<function __main__.<lambda>(x)>"
            ]
          },
          "metadata": {},
          "execution_count": 6
        }
      ]
    },
    {
      "cell_type": "code",
      "metadata": {
        "id": "-h0pVTVfmebp",
        "colab": {
          "base_uri": "https://localhost:8080/"
        },
        "outputId": "a00a9400-ddbb-44a2-b9af-93a6335b88b2"
      },
      "source": [
        "# Remove punctuation\n",
        "entrevistas = entrevistas.map(lambda x: re.sub('[-–_–,:/.¡!¿?...]','', x))\n",
        "entrevistas"
      ],
      "execution_count": 7,
      "outputs": [
        {
          "output_type": "execute_result",
          "data": {
            "text/plain": [
              "0      Sí claro Yo creo que están en el día a día evi...\n",
              "1      Bueno tendría que hacer memoria La verdad es q...\n",
              "2      Bueno la verdad es que cuando dedicas espacio ...\n",
              "3      La verdad es que hay esto tiene que ver con la...\n",
              "4      Bueno los que buscan enemigos los que simplifi...\n",
              "                             ...                        \n",
              "519    Honestamente es un artículo que espero que lea...\n",
              "520    Con las estadísticas por ejemplo me he hecho c...\n",
              "521    Sí escuchar escuchar escuchar Como decían Faem...\n",
              "522    La movida gore que yo no la meto normalmente e...\n",
              "523                                                   21\n",
              "Name: 0, Length: 524, dtype: object"
            ]
          },
          "metadata": {},
          "execution_count": 7
        }
      ]
    },
    {
      "cell_type": "code",
      "metadata": {
        "id": "xXEPndF2m60p",
        "colab": {
          "base_uri": "https://localhost:8080/"
        },
        "outputId": "fd916914-db56-4d63-fbe1-3f3c224f6893"
      },
      "source": [
        "# Convert uppercase to lowercase\n",
        "entrevistas.map(lambda x: x.lower())"
      ],
      "execution_count": 8,
      "outputs": [
        {
          "output_type": "execute_result",
          "data": {
            "text/plain": [
              "0      sí claro yo creo que están en el día a día evi...\n",
              "1      bueno tendría que hacer memoria la verdad es q...\n",
              "2      bueno la verdad es que cuando dedicas espacio ...\n",
              "3      la verdad es que hay esto tiene que ver con la...\n",
              "4      bueno los que buscan enemigos los que simplifi...\n",
              "                             ...                        \n",
              "519    honestamente es un artículo que espero que lea...\n",
              "520    con las estadísticas por ejemplo me he hecho c...\n",
              "521    sí escuchar escuchar escuchar como decían faem...\n",
              "522    la movida gore que yo no la meto normalmente e...\n",
              "523                                                   21\n",
              "Name: 0, Length: 524, dtype: object"
            ]
          },
          "metadata": {},
          "execution_count": 8
        }
      ]
    },
    {
      "cell_type": "code",
      "metadata": {
        "id": "MF_58njOoh12",
        "colab": {
          "base_uri": "https://localhost:8080/"
        },
        "outputId": "47cb956c-23ab-4940-abde-d550844f3ea8"
      },
      "source": [
        "# PREPARE DATA FOR LDA ANALYSIS\n",
        "\n",
        "# Generate the stop words\n",
        "stop_words = stopwords.words('spanish')\n",
        "\n",
        "stop_words.extend(['http', 'https', 'tco', 'httpstco', 'co', 'pa', 'si', \n",
        "                   'rt', 'etc', 'ect', 'tco', 'xa0', 't', 'si', 'q', 'd', 'lo', 'ell', 'call', \n",
        "                   'pkly', 'onde', 'pese', 'tb', '000', 'dos', 'tres', 'cia', 'vez', 'ves', \n",
        "                   'mira', 'tan', 'tal', 'dar', 'da', 'das', 'dan', 'uma', 'va', 'van', 'ser',\n",
        "                   'ahí', 'ahi', 'tras', 'detrás', 'detras', 'creo', 'hecho', 'ejemplo', 'demas', \n",
        "                   'demás', 'ademas', 'además', 'resto', 'pensar', 'sino', 'decir', 'lado', \n",
        "                   'parece', 'piensa', 'pase', 'pesar', 'entender', 'alguien', 'dicho', 'supuesto', \n",
        "                   'alli', 'allí', 'aun', 'cualquier', 'cuestión', 'contenido', 'contenidos', \n",
        "                   'simplemente', 'símplemente', 'habia', 'parte', 'acaso', 'biden', 'toda', 'todas',\n",
        "                   'gracias', 'despues', 'después', 'of', 'and', 'his', 'the', 'cada', 'to', \n",
        "                   'in', 'ello', 'quiere', 'buenas', 'ningún', 'día', 'pocos', 'cómo', 'como', 'puede', \n",
        "                   'pone', 'mientras', 'garcimoreno', 'cabrita', 'veintimillapier', 'qls', 'colocolo', \n",
        "                   'gyzytqqtbm', 'sólo', 'solo', 'ahora', 'frente', 'hacen', 'hace', 'bien', 'años', \n",
        "                   'nueva', 'luego', 'así', 'asi','claro', 'ver', 'debería', 'video', 'estan', 'mas', \n",
        "                   'menos', 'hacer', 'solo', 'pues', 'incluso', 'meses', 'vale', 'dia', 'evidentemente', \n",
        "                   'tambien', 'entonces','bueno', 'gente', 'discurso', 'aqui', 'veces', 'digo', 'vamos', \n",
        "                   'momento', 'forma', 'cosas', 'tipo', 'siempre', 'caso', 'persona', 'personas', 'puedes', \n",
        "                   'quiza', 'pasa', 'tema', 'alguna', 'algunas', 'manera', 'veo', 'final', 'nunca', 'muchas', \n",
        "                   'veces', 'igual', 'quizas', 'dice', 'tener', 'hacia', 'digamos', 'bastante', 'mucha', \n",
        "                   'tampoco', 'tambien', 'mismo', 'decia', 'voy', 'cosa', 'ambito', 'aunque', 'algun',\n",
        "                   'puedo', 'haber', 'quiero', 'pueden', 'mejor', 'lleva', 'dicen', 'depende', 'sido',\n",
        "                   'general'])\n",
        "\n",
        "len(stop_words)"
      ],
      "execution_count": 72,
      "outputs": [
        {
          "output_type": "execute_result",
          "data": {
            "text/plain": [
              "503"
            ]
          },
          "metadata": {},
          "execution_count": 72
        }
      ]
    },
    {
      "cell_type": "code",
      "source": [
        "stop_words"
      ],
      "metadata": {
        "id": "kdJVIKPBacE6"
      },
      "execution_count": null,
      "outputs": []
    },
    {
      "cell_type": "code",
      "metadata": {
        "id": "Ndl0f25Po4Tb"
      },
      "source": [
        "#spanish_stopwords.append('')\n",
        "#spanish_stopwords.remove('')"
      ],
      "execution_count": 44,
      "outputs": []
    },
    {
      "cell_type": "code",
      "metadata": {
        "id": "nYPvX02zpHOx"
      },
      "source": [
        "def sent_to_words(sentences):\n",
        "    for sentence in sentences:\n",
        "        \n",
        "        yield(gensim.utils.simple_preprocess(str(sentence), deacc=True))\n",
        "\n",
        "def remove_stopwords(texts):\n",
        "    return [[word for word in simple_preprocess(str(doc)) \n",
        "             if word not in stop_words] for doc in texts]  "
      ],
      "execution_count": 73,
      "outputs": []
    },
    {
      "cell_type": "code",
      "metadata": {
        "id": "euAqi_LfpO9E"
      },
      "source": [
        "data = entrevistas.values.tolist()\n",
        "data_words = list(sent_to_words(data))"
      ],
      "execution_count": 74,
      "outputs": []
    },
    {
      "cell_type": "code",
      "metadata": {
        "id": "wsMjg_aRpd1o"
      },
      "source": [
        "# remove stop words\n",
        "data_words = remove_stopwords(data_words)"
      ],
      "execution_count": 75,
      "outputs": []
    },
    {
      "cell_type": "code",
      "metadata": {
        "id": "ZxDNIz_Cu8gf",
        "colab": {
          "base_uri": "https://localhost:8080/"
        },
        "outputId": "2dd821b1-b524-4217-9f5c-bb9a93ebddba"
      },
      "source": [
        "print(data_words[:1][0][:30])"
      ],
      "execution_count": 48,
      "outputs": [
        {
          "output_type": "stream",
          "name": "stdout",
          "text": [
            "['verdad', 'buscan', 'chivos', 'expiatorios', 'exacerbada', 'espana', 'pais', 'curioso', 'racismo', 'espana', 'disimulamos', 'disfrazamos', 'rascas', 'aparece', 'hablas', 'lenguaje', 'fundamental', 'traduce', 'precisamente', 'especie', 'pensamiento', 'subterraneo', 'terminologia', 'respecto', 'habla', 'invasion', 'habla', 'avalancha', 'terminologia', 'completamente']\n"
          ]
        }
      ]
    },
    {
      "cell_type": "code",
      "metadata": {
        "id": "tmjTMBY5qacq",
        "colab": {
          "base_uri": "https://localhost:8080/"
        },
        "outputId": "22e0a91c-4503-47e0-eebe-cc364a94855b"
      },
      "source": [
        "import gensim.corpora as corpora\n",
        "# Create Dictionary\n",
        "id2word = corpora.Dictionary(data_words)\n",
        "# Create Corpus\n",
        "texts = data_words\n",
        "# Term Document Frequency\n",
        "corpus = [id2word.doc2bow(text) for text in texts]\n",
        "# View\n",
        "print(corpus[:1][0][:30])"
      ],
      "execution_count": 76,
      "outputs": [
        {
          "output_type": "stream",
          "name": "stdout",
          "text": [
            "[(0, 2), (1, 1), (2, 1), (3, 1), (4, 1), (5, 1), (6, 1), (7, 1), (8, 1), (9, 1), (10, 2), (11, 1), (12, 1), (13, 1), (14, 1), (15, 1), (16, 1), (17, 1), (18, 2), (19, 1), (20, 1), (21, 1), (22, 1), (23, 1), (24, 1), (25, 1), (26, 1), (27, 1), (28, 1), (29, 1)]\n"
          ]
        }
      ]
    },
    {
      "cell_type": "code",
      "metadata": {
        "id": "O3kO9-jWqeLt"
      },
      "source": [
        "# LDA model training\n",
        "\n",
        "from pprint import pprint\n",
        "# Number of topics\n",
        "num_topics = 4\n",
        "\n",
        "# Build LDA model\n",
        "lda_model = models.ldamodel.LdaModel(num_topics=num_topics, corpus=corpus, id2word=id2word, random_state=None, \n",
        "                                     per_word_topics=True, alpha='auto', passes=2)\n",
        "lda_model.print_topics(num_words=10)"
      ],
      "execution_count": null,
      "outputs": []
    },
    {
      "cell_type": "code",
      "metadata": {
        "id": "P_dlMxCrq8-w"
      },
      "source": [
        "# Print the keywords of the topics\n",
        "pprint(lda_model.print_topics())\n",
        "doc_lda = lda_model[corpus]\n",
        "lda_model.print_topics(num_words=40)\n"
      ],
      "execution_count": null,
      "outputs": []
    },
    {
      "cell_type": "code",
      "metadata": {
        "id": "rlkkpLjEtRq-"
      },
      "source": [
        "# Analyze LDA model results\n",
        "!pip install pyLDAvis\n",
        "!python -m pip install -U pyLDAvis\n",
        "import pyLDAvis\n",
        "import pyLDAvis.gensim_models\n",
        "import pickle "
      ],
      "execution_count": null,
      "outputs": []
    },
    {
      "cell_type": "code",
      "metadata": {
        "id": "DnPI5D6nt542"
      },
      "source": [
        "# Visualize the topics\n",
        "pyLDAvis.enable_notebook()\n",
        "LDAvis_data_filepath = os.path.join('./ldavis_prepared_'+str(num_topics))"
      ],
      "execution_count": 79,
      "outputs": []
    },
    {
      "cell_type": "code",
      "metadata": {
        "id": "0zMoeYi2uF23",
        "colab": {
          "base_uri": "https://localhost:8080/"
        },
        "outputId": "e282129e-593d-47b2-ec72-3d3c17c50033"
      },
      "source": [
        "# This is a bit time consuming - make the if statement True\n",
        "if 1 == 1:\n",
        "    LDAvis_prepared = pyLDAvis.gensim_models.prepare(lda_model, corpus, id2word)\n",
        "    with open(LDAvis_data_filepath, 'wb') as f:\n",
        "        pickle.dump(LDAvis_prepared, f)"
      ],
      "execution_count": 80,
      "outputs": [
        {
          "output_type": "stream",
          "name": "stderr",
          "text": [
            "/usr/local/lib/python3.8/dist-packages/pyLDAvis/_prepare.py:243: FutureWarning: In a future version of pandas all arguments of DataFrame.drop except for the argument 'labels' will be keyword-only\n",
            "  default_term_info = default_term_info.sort_values(\n"
          ]
        }
      ]
    },
    {
      "cell_type": "code",
      "metadata": {
        "id": "5o7XX79Cys1F",
        "colab": {
          "base_uri": "https://localhost:8080/",
          "height": 861
        },
        "outputId": "d6411419-df95-4215-9b5d-f7019c3a1351"
      },
      "source": [
        "# Load the prepared pyLDAvis data from disk\n",
        "with open(LDAvis_data_filepath, 'rb') as f:\n",
        "    LDAvis_prepared = pickle.load(f)\n",
        "    pyLDAvis.save_html(LDAvis_prepared, './ldavis_prepared_'+ str(num_topics) +'.html')\n",
        "LDAvis_prepared"
      ],
      "execution_count": 81,
      "outputs": [
        {
          "output_type": "execute_result",
          "data": {
            "text/plain": [
              "PreparedData(topic_coordinates=              x         y  topics  cluster       Freq\n",
              "topic                                                \n",
              "2      0.015262 -0.012693       1        1  34.923688\n",
              "1      0.035498  0.000735       2        1  24.031459\n",
              "3     -0.032049 -0.029344       3        1  22.469806\n",
              "0     -0.018711  0.041302       4        1  18.575047, topic_info=             Term        Freq       Total Category  logprob  loglift\n",
              "858   informacion  259.000000  259.000000  Default  30.0000  30.0000\n",
              "480          odio  369.000000  369.000000  Default  29.0000  29.0000\n",
              "1952      twitter   95.000000   95.000000  Default  28.0000  28.0000\n",
              "2265      conozco   34.000000   34.000000  Default  27.0000  27.0000\n",
              "1533     escribir   36.000000   36.000000  Default  26.0000  26.0000\n",
              "...           ...         ...         ...      ...      ...      ...\n",
              "281        medios   18.835444  160.876579   Topic4  -6.2041  -0.4615\n",
              "381         temas   17.331268  123.081834   Topic4  -6.2874  -0.2770\n",
              "121          anos   17.052772  120.744977   Topic4  -6.3036  -0.2740\n",
              "168        contar   16.087384  109.577651   Topic4  -6.3618  -0.2352\n",
              "293         mundo   15.150497  113.715688   Topic4  -6.4218  -0.3323\n",
              "\n",
              "[371 rows x 6 columns], token_table=      Topic      Freq            Term\n",
              "term                                 \n",
              "6022      1  0.200040           abril\n",
              "6022      3  0.600121           abril\n",
              "7075      2  0.807470  acompanamiento\n",
              "7498      1  0.135106            acto\n",
              "7498      2  0.675531            acto\n",
              "...     ...       ...             ...\n",
              "1286      4  0.078581             voz\n",
              "2705      1  0.160551          vuelta\n",
              "2705      2  0.160551          vuelta\n",
              "2705      3  0.642204          vuelta\n",
              "2705      4  0.080276          vuelta\n",
              "\n",
              "[761 rows x 3 columns], R=30, lambda_step=0.01, plot_opts={'xlab': 'PC1', 'ylab': 'PC2'}, topic_order=[3, 2, 4, 1])"
            ],
            "text/html": [
              "\n",
              "<link rel=\"stylesheet\" type=\"text/css\" href=\"https://cdn.jsdelivr.net/gh/bmabey/pyLDAvis@3.4.0/pyLDAvis/js/ldavis.v1.0.0.css\">\n",
              "\n",
              "\n",
              "<div id=\"ldavis_el211140282666464192651706213\" style=\"background-color:white;\"></div>\n",
              "<script type=\"text/javascript\">\n",
              "\n",
              "var ldavis_el211140282666464192651706213_data = {\"mdsDat\": {\"x\": [0.01526229876945186, 0.03549790035737539, -0.032048927722676396, -0.01871127140415085], \"y\": [-0.012692668377481186, 0.0007348529729510137, -0.02934394764984634, 0.041301763054376536], \"topics\": [1, 2, 3, 4], \"cluster\": [1, 1, 1, 1], \"Freq\": [34.92368764471412, 24.03145907650635, 22.469806057767585, 18.575047221011943]}, \"tinfo\": {\"Term\": [\"informacion\", \"odio\", \"twitter\", \"conozco\", \"escribir\", \"informaciones\", \"publico\", \"fuentes\", \"comentarios\", \"ciertos\", \"educacion\", \"medios\", \"temas\", \"vox\", \"datos\", \"debate\", \"musulmanes\", \"anos\", \"senora\", \"hablo\", \"reportaje\", \"menor\", \"articulo\", \"libro\", \"realmente\", \"comunicacion\", \"racista\", \"minimo\", \"experiencia\", \"operacion\", \"parecidas\", \"cuestionar\", \"pongan\", \"fiable\", \"refugees\", \"cruce\", \"infierno\", \"globalizacion\", \"ofensivo\", \"parentesis\", \"naciones\", \"util\", \"colgar\", \"opositores\", \"irme\", \"registro\", \"ridiculo\", \"espanto\", \"tomadas\", \"dificilmente\", \"convertir\", \"ministerio\", \"resisti\", \"sesgado\", \"tratarles\", \"cuelgo\", \"serbio\", \"autores\", \"laberinto\", \"impulso\", \"unicef\", \"reporteros\", \"intentamos\", \"rollo\", \"emocion\", \"hilo\", \"saben\", \"cubierto\", \"poniendo\", \"redes\", \"voz\", \"verdad\", \"digital\", \"periodismo\", \"sociales\", \"periodista\", \"migrantes\", \"hechos\", \"twitter\", \"traves\", \"fuente\", \"periodistas\", \"opiniones\", \"derechos\", \"discursos\", \"pais\", \"contacto\", \"iba\", \"tiempo\", \"ceuta\", \"dentro\", \"frontera\", \"odio\", \"internet\", \"trabajo\", \"importante\", \"hablar\", \"contar\", \"historia\", \"intento\", \"realidad\", \"espana\", \"informacion\", \"mundo\", \"menores\", \"periodico\", \"medios\", \"sociedad\", \"anos\", \"comunicacion\", \"fuentes\", \"temas\", \"aportan\", \"marketing\", \"legislativos\", \"guio\", \"suma\", \"calienta\", \"potentes\", \"competencia\", \"titulamos\", \"regimos\", \"enesima\", \"consume\", \"necesitamos\", \"chocolate\", \"discutido\", \"compensar\", \"evitarlo\", \"estadisticas\", \"expulsar\", \"india\", \"titula\", \"frio\", \"colocarme\", \"centrada\", \"acompanamiento\", \"costas\", \"comprension\", \"posibilidad\", \"contundente\", \"aleman\", \"leyes\", \"den\", \"audiencias\", \"tratas\", \"ciertos\", \"etico\", \"acto\", \"informacion\", \"energia\", \"esencial\", \"informaciones\", \"cambios\", \"titulares\", \"odio\", \"temas\", \"datos\", \"complicado\", \"medios\", \"posible\", \"ley\", \"poder\", \"profesion\", \"comentarios\", \"trato\", \"comunicacion\", \"linea\", \"tratar\", \"podemos\", \"periodista\", \"alla\", \"intentar\", \"capaz\", \"espana\", \"mundo\", \"respeto\", \"ido\", \"hablar\", \"problema\", \"trabajo\", \"haciendo\", \"nadie\", \"reportaje\", \"cierto\", \"hablando\", \"sociales\", \"medio\", \"historia\", \"anos\", \"periodismo\", \"verdad\", \"migrantes\", \"cuenta\", \"redes\", \"pais\", \"raval\", \"operacion\", \"aulas\", \"nina\", \"leche\", \"vengan\", \"rapidos\", \"espera\", \"motril\", \"avila\", \"luis\", \"financiado\", \"recogiendo\", \"educacional\", \"colas\", \"iranies\", \"ultimas\", \"imaginar\", \"demostrando\", \"compartirlo\", \"colacion\", \"legislando\", \"sincera\", \"conociendo\", \"declarada\", \"conlleva\", \"dedicada\", \"quisimos\", \"represento\", \"aprobo\", \"efe\", \"vuelta\", \"empresa\", \"estrecho\", \"turistas\", \"junta\", \"abril\", \"presidente\", \"educacion\", \"menor\", \"edad\", \"sara\", \"hambre\", \"imagen\", \"racista\", \"vital\", \"puerta\", \"ingreso\", \"anos\", \"bulos\", \"conocer\", \"pueblo\", \"dias\", \"amigos\", \"grupo\", \"sistema\", \"fotos\", \"senegal\", \"italia\", \"racismo\", \"trabajo\", \"poblacion\", \"medios\", \"espana\", \"contar\", \"problema\", \"medio\", \"pais\", \"refugiados\", \"migrantes\", \"odio\", \"vox\", \"tiempo\", \"comunicacion\", \"mundo\", \"historia\", \"vida\", \"menores\", \"hablar\", \"tenia\", \"risas\", \"periodistas\", \"historias\", \"verdad\", \"cuenta\", \"informacion\", \"temas\", \"inmigrantes\", \"haciendo\", \"comentarios\", \"periodista\", \"ciclica\", \"requiere\", \"roban\", \"desahogarse\", \"discrepancia\", \"tertulia\", \"visibilizarlo\", \"participo\", \"razas\", \"dedicado\", \"culpables\", \"psicologia\", \"pida\", \"silencio\", \"mostrarse\", \"varon\", \"vivian\", \"inquieta\", \"excelente\", \"ampliar\", \"desconectada\", \"gestionar\", \"promotor\", \"indigna\", \"escenario\", \"tiendo\", \"recien\", \"refrito\", \"tienden\", \"diseccionar\", \"romanos\", \"senora\", \"relativamente\", \"conozco\", \"plena\", \"fisicos\", \"raza\", \"escribir\", \"encuentro\", \"discuto\", \"musulmanes\", \"economia\", \"publico\", \"fuentes\", \"hablo\", \"twitter\", \"debate\", \"discapacidad\", \"odio\", \"informacion\", \"suelo\", \"feedback\", \"hora\", \"vox\", \"experiencia\", \"espana\", \"historia\", \"articulo\", \"visto\", \"cara\", \"puesto\", \"comentarios\", \"reportaje\", \"vas\", \"cuenta\", \"esfuerzo\", \"libro\", \"sociedad\", \"realmente\", \"verdad\", \"haciendo\", \"llegan\", \"trabajo\", \"tenia\", \"hablando\", \"hice\", \"periodistas\", \"tiempo\", \"hablar\", \"medios\", \"temas\", \"anos\", \"contar\", \"mundo\"], \"Freq\": [259.0, 369.0, 95.0, 34.0, 36.0, 64.0, 62.0, 88.0, 90.0, 32.0, 34.0, 160.0, 123.0, 69.0, 77.0, 63.0, 26.0, 120.0, 13.0, 38.0, 66.0, 24.0, 49.0, 32.0, 52.0, 97.0, 36.0, 22.0, 24.0, 9.0, 3.579778686427448, 2.829024624709396, 4.181476881518624, 3.483464158556729, 2.7813449429377566, 3.4472352294857442, 2.7536446674770745, 4.0964621567271395, 3.4058411205479837, 3.3982056705252464, 5.4070934639461425, 8.07618670977721, 2.674591432801856, 3.343713622139565, 2.6667627060679067, 3.961137351017761, 5.2673982587246675, 1.9584503487599287, 1.9578779131178834, 1.9576341498778855, 4.533435302529986, 6.47497279163778, 3.215895245323804, 2.5783421804431037, 2.568711237620969, 2.5624192902253746, 1.921029376648159, 3.2097853554108022, 1.9165819724305404, 1.911975969117442, 5.062029768886186, 4.453993474572595, 11.891872371361996, 5.024949708334957, 5.640617627934256, 4.399401728041685, 14.231993355762592, 5.511678093203986, 4.970352862154674, 78.70010639464122, 24.80949637691566, 115.53572239271588, 7.717661470269084, 60.869031414629475, 63.20574787310909, 73.1848886348079, 68.48612065976687, 14.511257294901107, 48.16403830958544, 20.12716763159131, 25.9930495214253, 53.69385738550166, 16.66415383196507, 35.70077674422937, 37.6819089309939, 54.28897014837586, 16.85085301541635, 22.57210476933125, 51.48016078876089, 27.293568223938948, 34.430388810067264, 24.267807540866098, 127.01352363364128, 15.210133643484207, 67.77333246769602, 36.63763129056239, 50.69152653150509, 44.978315904720496, 50.469108383920066, 29.84667096472599, 32.53590170599856, 55.89960668866056, 73.0032676822016, 42.207815111190556, 32.02976558551321, 29.25531562350933, 48.393840749461624, 33.09044165846642, 36.94844472050783, 34.155670698379254, 32.71238629175704, 36.36958556011315, 4.5376363252445575, 3.8706258224649788, 2.5415225219272037, 1.8674483012064296, 3.103408394759903, 1.8600417405503853, 3.04638947540716, 3.665155656668994, 3.0132091785189212, 1.7981891600147517, 1.7974148688680642, 2.9881967496253803, 2.955551947090119, 1.7678567035076338, 1.7645672381964852, 2.893955709034728, 2.3362609743440923, 4.081447422653434, 2.3223412793902485, 2.305679720001941, 2.3281032828475836, 2.3223826872104656, 1.7201173468482998, 2.277855945755267, 1.7161197376286919, 4.598191051347368, 1.7094423757049462, 4.0000680721187045, 2.805726697934502, 2.2526492861118093, 3.93317759860894, 3.927514552823649, 3.8617743745229673, 4.884165388833831, 19.063615809864785, 9.271997695203476, 4.765688842349306, 105.33324114147855, 5.166230196447081, 4.283083154114565, 29.802412546204742, 5.505740283595818, 5.075281428477423, 122.05462289893292, 47.557355954757874, 32.220056555677736, 18.153881788729286, 55.36788709387589, 18.996497242430095, 13.858355233725737, 24.690492215109757, 13.48738748519254, 31.98059583318943, 13.726032684170804, 33.50956625998584, 16.75161508083258, 15.46244365736082, 22.310738466617835, 40.78804761530626, 11.617259431281973, 22.7801487458388, 6.863473933590175, 40.689081521332355, 30.7313289155127, 11.508834106784564, 12.665558757240737, 32.25708777984617, 22.3242233794594, 39.88505394510916, 25.09582564711334, 20.811855383087682, 20.777672174757235, 21.86030279464078, 21.66701249352206, 27.63773241957561, 23.43148112496023, 28.535507300770426, 26.264317838613255, 25.01790314773928, 29.780973120916716, 26.01966078560143, 22.321226576199617, 24.292342689000115, 22.085777499480148, 4.984041022421399, 7.165674995084865, 3.222327881954606, 5.070938674946302, 1.861139839674031, 7.391965941016512, 2.4400398390674622, 3.6665327958852614, 1.7770665585424987, 1.7755101684746022, 1.7614585270605136, 1.7256594227835096, 2.8834781238437714, 1.7237550719973664, 2.307280602956555, 1.6924071087894217, 1.699494614187678, 2.2527181968090497, 1.697971691345865, 2.2525086985359706, 1.6883021238332814, 1.6914591988271253, 1.6831439055857007, 2.805921436606724, 1.6640898982023598, 2.773195739258356, 1.6604427908344455, 2.1982706291824186, 1.665695504779202, 2.206067508529614, 3.3108158839385777, 8.174175073434313, 4.3157385783077835, 7.965502981485147, 3.7405094742615903, 7.962487650037067, 3.230627754023228, 8.697863008762154, 18.23728632241004, 13.561185121821149, 10.724514194755262, 3.16743966251788, 3.6186382423697347, 10.748806807350794, 16.943922402722478, 7.253069734350121, 10.237212352601118, 6.748778353307883, 40.479442034682904, 10.128804132676358, 13.826599911264118, 11.45403869489687, 17.755547258207013, 11.659766327170836, 12.796959045552029, 12.638610505889895, 10.429312917878168, 8.839278444466451, 9.703931791569678, 22.240236924644094, 42.79679151509462, 17.2463480068927, 38.27940633743466, 39.391636442478536, 29.2585609730458, 22.131632494903673, 24.567295837940645, 29.06180780712307, 17.3893226216004, 29.05887319074966, 49.13483316488518, 19.75386876543079, 26.040116273647016, 23.73553421187596, 25.626046628143882, 27.743941940621927, 21.210203639300676, 20.16335668206113, 25.346097875499154, 17.35763506448073, 15.080496128097856, 22.848694718760083, 18.140174931838644, 28.29058642438245, 19.907924313072613, 28.684103255749815, 21.82362376995864, 19.241839892962155, 19.64453593135797, 18.398048439670877, 18.587034584261836, 2.246861992918515, 2.8065334433925617, 2.2239672204958714, 1.636580153280731, 1.6358433359070528, 1.6355725050041932, 1.6055585551079876, 2.1081279475013353, 2.625361809361979, 3.135544031951176, 2.0924843097222494, 1.5622833842932526, 2.05032596038225, 2.045293821849151, 1.5319844991306935, 2.5444713860599677, 2.5432524435687807, 1.5168925589544278, 1.515808692867471, 2.5197944459385377, 1.5113241833707998, 5.032088082875899, 2.0057731241013963, 2.5019120116925495, 4.981579272253094, 1.4916659555133738, 1.9820274788272052, 1.9723939273230908, 1.47445212234455, 1.4702290860480354, 2.4303383341915583, 7.933822182523863, 3.322204975758493, 17.455356289293977, 3.6418065976778577, 2.82450782723902, 4.437563394019551, 16.54610222239214, 4.0158236676700865, 6.179708062727248, 11.727106660511186, 5.2835900405179315, 21.8007522789226, 27.348189392468388, 14.205784716962839, 28.118827944853948, 20.266970015921952, 3.1431340781752275, 71.5307438185158, 52.36068317092933, 11.890993939555475, 6.842572461278085, 18.275820133148407, 18.998139306105834, 9.241845121160981, 34.64301175947315, 29.426543299871796, 14.732546890076911, 18.569976398373683, 9.207534629535438, 9.72757119116498, 21.286622190743902, 17.038226248667193, 15.68930336827527, 20.10493257839744, 8.051969553232853, 10.455513665352335, 18.023576611471906, 13.6321385546439, 27.35165038627959, 17.646775285878423, 11.260340109896145, 23.91579272072476, 13.942571255341171, 15.362116853649285, 13.247038438560796, 17.887153783003413, 17.509497515991992, 17.885249693931733, 18.8354443882523, 17.331268269176448, 17.05277218723359, 16.087383838576944, 15.150497153688418], \"Total\": [259.0, 369.0, 95.0, 34.0, 36.0, 64.0, 62.0, 88.0, 90.0, 32.0, 34.0, 160.0, 123.0, 69.0, 77.0, 63.0, 26.0, 120.0, 13.0, 38.0, 66.0, 24.0, 49.0, 32.0, 52.0, 97.0, 36.0, 22.0, 24.0, 9.0, 4.2895104765670995, 3.4289030807026126, 5.141822781273161, 4.285526642855478, 3.4268945352070936, 4.278216294852154, 3.4220089234593254, 5.121344641346019, 4.286052685049915, 4.2824699061951135, 6.827119355245454, 10.236837854813126, 3.4055432338566196, 4.273479926971969, 3.4165482074762044, 5.12733933815087, 6.853577205677434, 2.5578791665817815, 2.5578417229582917, 2.5578679148453705, 5.965726320304607, 8.53669147342013, 4.241649861908562, 3.408073460954089, 3.396992527443451, 3.3980208294910947, 2.554333162425888, 4.275825030963311, 2.556105772550731, 2.5531785227668466, 6.791270559277332, 5.98193125159504, 16.189309764723692, 6.776433531761629, 7.675154265389375, 5.927482952289445, 20.36659830523169, 7.601900450025894, 6.827134119593788, 130.0381662146561, 38.176960421045585, 200.95893232429464, 11.068938912272065, 114.79658433955734, 121.30158968218768, 146.08375749875745, 136.81756591464742, 23.518802051394307, 95.4813401853482, 34.587350810358366, 47.37036627467313, 113.02153362647006, 28.329388544207283, 70.81879708565431, 75.69134837860459, 117.98531723558442, 29.197952987735235, 41.82168744138078, 116.30826661858146, 53.22963806284717, 71.04921185837381, 46.3127405900806, 369.73372351597516, 26.161918712955014, 174.37097064862456, 81.91568079553471, 126.17996188078214, 109.5776506717456, 136.1751009251842, 66.80857120479737, 75.95469784638448, 170.6233364119446, 259.3812952503593, 113.71568780853556, 76.19631329662658, 65.77245760061366, 160.8765785690245, 82.93770881805118, 120.74497678103758, 97.93999566109996, 88.24170873222447, 123.08183355400612, 5.78877506526877, 4.98801737458855, 3.304016235641441, 2.476670277361058, 4.131268461354083, 2.4770190389391744, 4.112361913559686, 4.996615861228561, 4.112373334192408, 2.4775243532600575, 2.4775402368266586, 4.144946559537982, 4.138061130297446, 2.4761130382665146, 2.479013428289223, 4.088614190449768, 3.300796835547838, 5.780645045077755, 3.291098573757614, 3.2736134750422186, 3.30778221495691, 3.317504899182541, 2.467426409210574, 3.285004320859612, 2.4768712088651266, 6.6631210481152126, 2.4789736895059757, 5.807644775685504, 4.0908897250644, 3.293797090766668, 5.79284735912217, 5.789023680357136, 5.787390176067968, 7.444750628806954, 32.59024740637986, 14.971812082455827, 7.401582065012722, 259.3812952503593, 8.241476026214748, 6.661412876293477, 64.57919731184975, 9.015458962151163, 8.243302342309097, 369.73372351597516, 123.08183355400612, 77.39425570306989, 39.037993418985515, 160.8765785690245, 43.08107235527005, 28.99718408516668, 60.899439014287964, 28.36310876614785, 90.98543498062004, 30.25057111063783, 97.93999566109996, 41.518458884012624, 37.5772995038917, 62.88363865909603, 146.08375749875745, 25.57164066238467, 67.63730888677905, 12.441948380994175, 170.6233364119446, 113.71568780853556, 26.750093449806876, 30.937422494142538, 126.17996188078214, 72.31687454457385, 174.37097064862456, 88.50139689191658, 66.37359563453822, 66.462551845868, 74.58259525500921, 74.72606496849387, 121.30158968218768, 88.42833028342585, 136.1751009251842, 120.74497678103758, 114.79658433955734, 200.95893232429464, 136.81756591464742, 89.01185475088019, 130.0381662146561, 117.98531723558442, 5.824301091148857, 9.118650098042849, 4.148286993206975, 6.591388488618321, 2.4850746272584754, 9.960701282467433, 3.3061623185666074, 4.979081650954571, 2.484391760674608, 2.48349811868503, 2.483615829158559, 2.4684333600047133, 4.146394186888241, 2.48236479698723, 3.3309039670619356, 2.4610790735616175, 2.47436518349533, 3.2995501560746794, 2.4882537203667296, 3.3085723628888504, 2.4802676976006968, 2.492629479636536, 2.4813371219345846, 4.1399235236731435, 2.4574413321099136, 4.128213788015794, 2.4747119010431557, 3.282284917166791, 2.4871898550754277, 3.300159608893459, 4.963578392052514, 12.45709927319444, 6.59422228921531, 12.552058675598222, 5.773900225647342, 13.094152334926598, 4.998993789643726, 14.720921910878946, 34.00132734308319, 24.9552829020852, 19.761390828406427, 4.980010134518623, 5.810892688680625, 21.344785857324407, 36.75089423719996, 13.679718080168815, 20.865953005222885, 12.808845767580681, 120.74497678103758, 21.30957262766697, 31.73002315160196, 25.06577096081834, 44.92614542063899, 26.150141935444406, 29.759502446735745, 29.603628982953115, 23.251580779916026, 18.995064392550255, 21.604170157312442, 68.56462787285714, 174.37097064862456, 49.31421032530353, 160.8765785690245, 170.6233364119446, 109.5776506717456, 72.31687454457385, 88.42833028342585, 117.98531723558442, 53.2889987606907, 136.81756591464742, 369.73372351597516, 69.61182256642365, 116.30826661858146, 97.93999566109996, 113.71568780853556, 136.1751009251842, 82.93329741530934, 76.19631329662658, 126.17996188078214, 57.85959287745255, 43.22527214619549, 113.02153362647006, 67.01299909910126, 200.95893232429464, 89.01185475088019, 259.3812952503593, 123.08183355400612, 81.24182916156968, 88.50139689191658, 90.98543498062004, 146.08375749875745, 3.017633521816073, 3.773596287495603, 3.019313357836404, 2.2710331964467487, 2.2711690665893047, 2.271219698638766, 2.27713847722188, 3.0485732285901093, 3.7994267327373406, 4.559953869134864, 3.0447586584011037, 2.2829454851724895, 3.050649483973969, 3.0520130826225103, 2.2890177288958453, 3.813087697502371, 3.8209409751820576, 2.2930935060650954, 2.2947887254543993, 3.819528992277717, 2.2918566444320363, 7.63887189302838, 3.0598788475882035, 3.834450084092442, 7.63881980576001, 2.2932694193186376, 3.059350056777535, 3.0620685748604957, 2.296605675609141, 2.2990086038901683, 3.833399047314266, 13.09803193250184, 5.370173414329341, 34.45374226152333, 6.154193734372685, 4.618649222568268, 7.723145728736048, 36.13922616395921, 6.970105032708228, 11.72132067752128, 26.08548909360062, 10.145285705730021, 62.499596932041264, 88.24170873222447, 38.450946106784286, 95.4813401853482, 63.87413527501424, 5.389611727410896, 369.73372351597516, 259.3812952503593, 33.78267447595496, 15.860677070029702, 65.17251802769744, 69.61182256642365, 24.67725502626559, 170.6233364119446, 136.1751009251842, 49.2000202031847, 71.58992807656023, 24.742821383707387, 27.23894688108523, 90.98543498062004, 66.462551845868, 59.339483350504544, 89.01185475088019, 20.724470198316254, 32.16652047886813, 82.93770881805118, 52.57845824851349, 200.95893232429464, 88.50139689191658, 37.296212766652744, 174.37097064862456, 57.85959287745255, 74.72606496849387, 53.8678391297091, 113.02153362647006, 116.30826661858146, 126.17996188078214, 160.8765785690245, 123.08183355400612, 120.74497678103758, 109.5776506717456, 113.71568780853556], \"Category\": [\"Default\", \"Default\", \"Default\", \"Default\", \"Default\", \"Default\", \"Default\", \"Default\", \"Default\", \"Default\", \"Default\", \"Default\", \"Default\", \"Default\", \"Default\", \"Default\", \"Default\", \"Default\", \"Default\", \"Default\", \"Default\", \"Default\", \"Default\", \"Default\", \"Default\", \"Default\", \"Default\", \"Default\", \"Default\", \"Default\", \"Topic1\", \"Topic1\", \"Topic1\", \"Topic1\", \"Topic1\", \"Topic1\", \"Topic1\", \"Topic1\", \"Topic1\", \"Topic1\", \"Topic1\", \"Topic1\", \"Topic1\", \"Topic1\", \"Topic1\", \"Topic1\", \"Topic1\", \"Topic1\", \"Topic1\", \"Topic1\", \"Topic1\", \"Topic1\", \"Topic1\", \"Topic1\", \"Topic1\", \"Topic1\", \"Topic1\", \"Topic1\", \"Topic1\", \"Topic1\", \"Topic1\", \"Topic1\", \"Topic1\", \"Topic1\", \"Topic1\", \"Topic1\", \"Topic1\", \"Topic1\", \"Topic1\", \"Topic1\", \"Topic1\", \"Topic1\", \"Topic1\", \"Topic1\", \"Topic1\", \"Topic1\", \"Topic1\", \"Topic1\", \"Topic1\", \"Topic1\", \"Topic1\", \"Topic1\", \"Topic1\", \"Topic1\", \"Topic1\", \"Topic1\", \"Topic1\", \"Topic1\", \"Topic1\", \"Topic1\", \"Topic1\", \"Topic1\", \"Topic1\", \"Topic1\", \"Topic1\", \"Topic1\", \"Topic1\", \"Topic1\", \"Topic1\", \"Topic1\", \"Topic1\", \"Topic1\", \"Topic1\", \"Topic1\", \"Topic1\", \"Topic1\", \"Topic1\", \"Topic1\", \"Topic1\", \"Topic1\", \"Topic1\", \"Topic1\", \"Topic2\", \"Topic2\", \"Topic2\", \"Topic2\", \"Topic2\", \"Topic2\", \"Topic2\", \"Topic2\", \"Topic2\", \"Topic2\", \"Topic2\", \"Topic2\", \"Topic2\", \"Topic2\", \"Topic2\", \"Topic2\", \"Topic2\", \"Topic2\", \"Topic2\", \"Topic2\", \"Topic2\", \"Topic2\", \"Topic2\", \"Topic2\", \"Topic2\", \"Topic2\", \"Topic2\", \"Topic2\", \"Topic2\", \"Topic2\", \"Topic2\", \"Topic2\", \"Topic2\", \"Topic2\", \"Topic2\", \"Topic2\", \"Topic2\", \"Topic2\", \"Topic2\", \"Topic2\", \"Topic2\", \"Topic2\", \"Topic2\", \"Topic2\", \"Topic2\", \"Topic2\", \"Topic2\", \"Topic2\", \"Topic2\", \"Topic2\", \"Topic2\", \"Topic2\", \"Topic2\", \"Topic2\", \"Topic2\", \"Topic2\", \"Topic2\", \"Topic2\", \"Topic2\", \"Topic2\", \"Topic2\", \"Topic2\", \"Topic2\", \"Topic2\", \"Topic2\", \"Topic2\", \"Topic2\", \"Topic2\", \"Topic2\", \"Topic2\", \"Topic2\", \"Topic2\", \"Topic2\", \"Topic2\", \"Topic2\", \"Topic2\", \"Topic2\", \"Topic2\", \"Topic2\", \"Topic2\", \"Topic2\", \"Topic2\", \"Topic2\", \"Topic2\", \"Topic3\", \"Topic3\", \"Topic3\", \"Topic3\", \"Topic3\", \"Topic3\", \"Topic3\", \"Topic3\", \"Topic3\", \"Topic3\", \"Topic3\", \"Topic3\", \"Topic3\", \"Topic3\", \"Topic3\", \"Topic3\", \"Topic3\", \"Topic3\", \"Topic3\", \"Topic3\", \"Topic3\", \"Topic3\", \"Topic3\", \"Topic3\", \"Topic3\", \"Topic3\", \"Topic3\", \"Topic3\", \"Topic3\", \"Topic3\", \"Topic3\", \"Topic3\", \"Topic3\", \"Topic3\", \"Topic3\", \"Topic3\", \"Topic3\", \"Topic3\", \"Topic3\", \"Topic3\", \"Topic3\", \"Topic3\", \"Topic3\", \"Topic3\", \"Topic3\", \"Topic3\", \"Topic3\", \"Topic3\", \"Topic3\", \"Topic3\", \"Topic3\", \"Topic3\", \"Topic3\", \"Topic3\", \"Topic3\", \"Topic3\", \"Topic3\", \"Topic3\", \"Topic3\", \"Topic3\", \"Topic3\", \"Topic3\", \"Topic3\", \"Topic3\", \"Topic3\", \"Topic3\", \"Topic3\", \"Topic3\", \"Topic3\", \"Topic3\", \"Topic3\", \"Topic3\", \"Topic3\", \"Topic3\", \"Topic3\", \"Topic3\", \"Topic3\", \"Topic3\", \"Topic3\", \"Topic3\", \"Topic3\", \"Topic3\", \"Topic3\", \"Topic3\", \"Topic3\", \"Topic3\", \"Topic3\", \"Topic3\", \"Topic3\", \"Topic3\", \"Topic3\", \"Topic4\", \"Topic4\", \"Topic4\", \"Topic4\", \"Topic4\", \"Topic4\", \"Topic4\", \"Topic4\", \"Topic4\", \"Topic4\", \"Topic4\", \"Topic4\", \"Topic4\", \"Topic4\", \"Topic4\", \"Topic4\", \"Topic4\", \"Topic4\", \"Topic4\", \"Topic4\", \"Topic4\", \"Topic4\", \"Topic4\", \"Topic4\", \"Topic4\", \"Topic4\", \"Topic4\", \"Topic4\", \"Topic4\", \"Topic4\", \"Topic4\", \"Topic4\", \"Topic4\", \"Topic4\", \"Topic4\", \"Topic4\", \"Topic4\", \"Topic4\", \"Topic4\", \"Topic4\", \"Topic4\", \"Topic4\", \"Topic4\", \"Topic4\", \"Topic4\", \"Topic4\", \"Topic4\", \"Topic4\", \"Topic4\", \"Topic4\", \"Topic4\", \"Topic4\", \"Topic4\", \"Topic4\", \"Topic4\", \"Topic4\", \"Topic4\", \"Topic4\", \"Topic4\", \"Topic4\", \"Topic4\", \"Topic4\", \"Topic4\", \"Topic4\", \"Topic4\", \"Topic4\", \"Topic4\", \"Topic4\", \"Topic4\", \"Topic4\", \"Topic4\", \"Topic4\", \"Topic4\", \"Topic4\", \"Topic4\", \"Topic4\", \"Topic4\", \"Topic4\", \"Topic4\", \"Topic4\", \"Topic4\", \"Topic4\", \"Topic4\", \"Topic4\"], \"logprob\": [30.0, 29.0, 28.0, 27.0, 26.0, 25.0, 24.0, 23.0, 22.0, 21.0, 20.0, 19.0, 18.0, 17.0, 16.0, 15.0, 14.0, 13.0, 12.0, 11.0, 10.0, 9.0, 8.0, 7.0, 6.0, 5.0, 4.0, 3.0, 2.0, 1.0, -8.4959, -8.7313, -8.3406, -8.5232, -8.7483, -8.5337, -8.7583, -8.3611, -8.5457, -8.548, -8.0835, -7.6823, -8.7874, -8.5641, -8.7904, -8.3947, -8.1097, -9.0991, -9.0994, -9.0995, -8.2597, -7.9033, -8.6031, -8.8241, -8.8278, -8.8303, -9.1184, -8.605, -9.1207, -9.1231, -8.1495, -8.2774, -7.2954, -8.1568, -8.0412, -8.2898, -7.1157, -8.0644, -8.1677, -5.4056, -6.56, -5.0216, -7.7277, -5.6625, -5.6248, -5.4782, -5.5446, -7.0963, -5.8966, -6.7692, -6.5134, -5.7879, -6.958, -6.1961, -6.142, -5.7769, -6.9468, -6.6545, -5.83, -6.4646, -6.2323, -6.5821, -4.9269, -7.0493, -5.5551, -6.1702, -5.8455, -5.965, -5.8499, -6.3752, -6.2889, -5.7477, -5.4807, -6.0286, -6.3046, -6.3952, -5.8919, -6.272, -6.1617, -6.2403, -6.2835, -6.1775, -7.885, -8.044, -8.4647, -8.7729, -8.2649, -8.7768, -8.2835, -8.0986, -8.2944, -8.8106, -8.8111, -8.3028, -8.3137, -8.8277, -8.8295, -8.3348, -8.5489, -7.991, -8.5549, -8.5621, -8.5524, -8.5548, -8.855, -8.5742, -8.8574, -7.8718, -8.8613, -8.0111, -8.3658, -8.5853, -8.028, -8.0294, -8.0463, -7.8114, -6.4496, -7.1704, -7.836, -4.7403, -7.7553, -7.9428, -6.0028, -7.6916, -7.773, -4.593, -5.5355, -5.9248, -6.4985, -5.3834, -6.4532, -6.7685, -6.191, -6.7957, -5.9323, -6.7781, -5.8856, -6.5789, -6.659, -6.2924, -5.689, -6.9449, -6.2715, -7.4712, -5.6915, -5.9721, -6.9543, -6.8585, -5.9237, -6.2918, -5.7114, -6.1747, -6.3619, -6.3635, -6.3128, -6.3216, -6.0782, -6.2433, -6.0463, -6.1292, -6.1778, -6.0036, -6.1386, -6.2919, -6.2073, -6.3025, -7.724, -7.3609, -8.1601, -7.7067, -8.709, -7.3298, -8.4382, -8.031, -8.7553, -8.7561, -8.7641, -8.7846, -8.2712, -8.7857, -8.4942, -8.8041, -8.7999, -8.5181, -8.8008, -8.5182, -8.8065, -8.8046, -8.8096, -8.2985, -8.821, -8.3102, -8.8232, -8.5426, -8.82, -8.539, -8.133, -7.2293, -7.868, -7.2551, -8.011, -7.2555, -8.1576, -7.1672, -6.4268, -6.723, -6.9577, -8.1773, -8.0441, -6.9554, -6.5003, -7.3488, -7.0042, -7.4209, -5.6294, -7.0149, -6.7036, -6.8919, -6.4535, -6.8741, -6.781, -6.7935, -6.9856, -7.151, -7.0577, -6.2283, -5.5738, -6.4826, -5.6853, -5.6567, -5.9541, -6.2332, -6.1288, -5.9608, -6.4744, -5.9609, -5.4357, -6.3469, -6.0706, -6.1633, -6.0866, -6.0072, -6.2758, -6.3264, -6.0976, -6.4762, -6.6168, -6.2013, -6.4321, -5.9877, -6.3391, -5.9739, -6.2472, -6.3731, -6.3524, -6.418, -6.4078, -8.3303, -8.1079, -8.3406, -8.6473, -8.6477, -8.6479, -8.6664, -8.3941, -8.1747, -7.9971, -8.4015, -8.6937, -8.4219, -8.4243, -8.7133, -8.206, -8.2064, -8.7232, -8.7239, -8.2157, -8.7269, -7.524, -8.4439, -8.2228, -7.5341, -8.74, -8.4558, -8.4606, -8.7516, -8.7545, -8.2519, -7.0687, -7.9393, -6.2802, -7.8474, -8.1015, -7.6498, -6.3337, -7.7496, -7.3186, -6.678, -7.4753, -6.0579, -5.8312, -6.4862, -5.8034, -6.1309, -7.9947, -4.8698, -5.1817, -6.6641, -7.2167, -6.2343, -6.1955, -6.9161, -5.5948, -5.758, -6.4498, -6.2183, -6.9199, -6.8649, -6.0818, -6.3044, -6.3869, -6.1389, -7.054, -6.7928, -6.2482, -6.5275, -5.8311, -6.2693, -6.7186, -5.9653, -6.5049, -6.408, -6.5561, -6.2558, -6.2771, -6.2559, -6.2041, -6.2874, -6.3036, -6.3618, -6.4218], \"loglift\": [30.0, 29.0, 28.0, 27.0, 26.0, 25.0, 24.0, 23.0, 22.0, 21.0, 20.0, 19.0, 18.0, 17.0, 16.0, 15.0, 14.0, 13.0, 12.0, 11.0, 10.0, 9.0, 8.0, 7.0, 6.0, 5.0, 4.0, 3.0, 2.0, 1.0, 0.8711, 0.8597, 0.8453, 0.8448, 0.8433, 0.836, 0.8347, 0.8287, 0.8221, 0.8207, 0.8188, 0.8149, 0.8104, 0.8067, 0.8042, 0.7939, 0.7888, 0.785, 0.7847, 0.7846, 0.7775, 0.7756, 0.7752, 0.773, 0.7725, 0.7698, 0.7671, 0.7652, 0.7641, 0.7628, 0.7581, 0.7571, 0.7435, 0.753, 0.744, 0.7539, 0.6936, 0.7305, 0.7346, 0.5498, 0.621, 0.4985, 0.6914, 0.4176, 0.4001, 0.3608, 0.36, 0.5691, 0.3677, 0.5106, 0.4518, 0.3077, 0.5214, 0.3671, 0.3545, 0.2758, 0.5023, 0.4353, 0.237, 0.384, 0.3276, 0.4057, -0.0165, 0.5097, 0.107, 0.2474, 0.1401, 0.1616, 0.0594, 0.2462, 0.2042, -0.0639, -0.2158, 0.0609, 0.1854, 0.2419, -0.1493, 0.1332, -0.1322, -0.0014, 0.0597, -0.1671, 1.1823, 1.1722, 1.1634, 1.1435, 1.1397, 1.1393, 1.1258, 1.1159, 1.1148, 1.1053, 1.1049, 1.0986, 1.0893, 1.0889, 1.0859, 1.0802, 1.0802, 1.0777, 1.0772, 1.0753, 1.0746, 1.0692, 1.065, 1.0597, 1.0589, 1.0549, 1.0541, 1.0529, 1.0487, 1.0459, 1.0386, 1.0378, 1.0213, 1.0043, 0.8896, 0.9466, 0.9856, 0.5246, 0.9588, 0.9841, 0.6525, 0.9327, 0.9408, 0.3175, 0.4749, 0.5495, 0.6602, 0.3592, 0.607, 0.6875, 0.523, 0.6825, 0.3802, 0.6356, 0.3533, 0.5182, 0.5378, 0.3896, 0.15, 0.6368, 0.3375, 0.8309, -0.0077, 0.1174, 0.5824, 0.5327, 0.0618, 0.2504, -0.0494, 0.1655, 0.266, 0.263, 0.1986, 0.1878, -0.0533, 0.0977, -0.137, -0.0997, -0.0978, -0.4834, -0.234, 0.0426, -0.2519, -0.2498, 1.3372, 1.252, 1.2404, 1.2308, 1.2039, 1.1947, 1.1892, 1.187, 1.1579, 1.1574, 1.1494, 1.135, 1.1298, 1.1283, 1.1258, 1.1185, 1.1173, 1.1113, 1.1109, 1.1085, 1.1084, 1.1053, 1.1049, 1.1041, 1.1032, 1.0952, 1.094, 1.0921, 1.0921, 1.0902, 1.0881, 1.0717, 1.0691, 1.0382, 1.0589, 0.9956, 1.0564, 0.9668, 0.8701, 0.8831, 0.8818, 1.0405, 1.0194, 0.807, 0.7187, 0.8585, 0.7809, 0.8522, 0.4001, 0.7492, 0.6623, 0.7098, 0.5647, 0.6853, 0.6491, 0.6419, 0.6912, 0.728, 0.6926, 0.3671, 0.0883, 0.4424, 0.0573, 0.0271, 0.1725, 0.3089, 0.2122, 0.0919, 0.3731, -0.0563, -0.5252, 0.2334, -0.0036, 0.0756, 0.0029, -0.0979, 0.1294, 0.1636, -0.1121, 0.289, 0.44, -0.1057, 0.1862, -0.4676, -0.0047, -0.709, -0.2369, 0.0527, -0.0122, -0.1055, -0.5687, 1.3884, 1.3873, 1.3776, 1.3557, 1.3552, 1.355, 1.3339, 1.3145, 1.3137, 1.3088, 1.3083, 1.304, 1.286, 1.2831, 1.2818, 1.2788, 1.2763, 1.2701, 1.2687, 1.2674, 1.267, 1.2659, 1.261, 1.2564, 1.2559, 1.2533, 1.2493, 1.2435, 1.2402, 1.2363, 1.2276, 1.182, 1.2031, 1.0034, 1.1587, 1.1916, 1.1292, 0.9021, 1.132, 1.0432, 0.8839, 1.0309, 0.6301, 0.5119, 0.6876, 0.4609, 0.5354, 1.1441, 0.0407, 0.0832, 0.6392, 0.8427, 0.4119, 0.3848, 0.7012, 0.089, 0.1513, 0.4775, 0.3339, 0.6948, 0.6537, 0.2307, 0.3222, 0.3531, 0.1955, 0.738, 0.5596, 0.1569, 0.3335, -0.311, 0.0709, 0.4857, -0.3033, 0.2603, 0.1014, 0.2806, -0.1601, -0.2101, -0.2704, -0.4615, -0.277, -0.274, -0.2352, -0.3323]}, \"token.table\": {\"Topic\": [1, 3, 2, 1, 2, 3, 4, 2, 1, 2, 3, 4, 1, 2, 3, 4, 4, 1, 2, 3, 4, 1, 2, 3, 1, 2, 3, 4, 2, 3, 3, 1, 3, 3, 1, 2, 3, 4, 2, 1, 2, 3, 4, 1, 2, 3, 4, 1, 2, 3, 4, 2, 1, 2, 3, 4, 2, 4, 1, 2, 3, 4, 1, 2, 3, 4, 3, 1, 3, 1, 2, 1, 2, 3, 4, 3, 2, 4, 1, 2, 1, 2, 3, 4, 2, 1, 2, 3, 4, 1, 3, 1, 2, 3, 4, 2, 3, 1, 2, 3, 4, 2, 1, 2, 3, 4, 1, 2, 3, 4, 2, 4, 1, 3, 1, 2, 1, 1, 2, 3, 4, 1, 1, 2, 3, 4, 1, 4, 1, 2, 3, 4, 1, 2, 3, 4, 3, 3, 3, 4, 3, 1, 2, 1, 2, 3, 4, 1, 2, 3, 4, 4, 4, 1, 2, 3, 4, 1, 1, 2, 3, 4, 2, 3, 4, 4, 1, 2, 3, 4, 2, 1, 2, 3, 4, 4, 1, 2, 3, 4, 1, 2, 3, 4, 1, 2, 3, 4, 3, 1, 3, 1, 2, 3, 1, 2, 3, 4, 1, 2, 4, 1, 2, 3, 4, 2, 1, 2, 3, 4, 1, 2, 3, 4, 1, 2, 3, 1, 2, 3, 4, 1, 2, 3, 4, 1, 1, 3, 1, 2, 3, 1, 2, 3, 4, 1, 2, 3, 4, 2, 4, 1, 2, 3, 4, 2, 1, 2, 3, 4, 1, 3, 1, 2, 4, 1, 2, 3, 4, 2, 1, 2, 3, 4, 1, 2, 3, 4, 1, 2, 3, 4, 1, 2, 3, 4, 1, 1, 2, 3, 4, 2, 1, 2, 3, 4, 1, 2, 3, 4, 1, 2, 3, 4, 1, 2, 3, 4, 1, 2, 3, 1, 2, 3, 4, 1, 2, 3, 4, 1, 4, 1, 2, 3, 4, 1, 2, 3, 4, 1, 2, 3, 4, 1, 2, 3, 4, 1, 2, 3, 4, 1, 2, 3, 4, 3, 1, 2, 3, 4, 1, 2, 1, 4, 1, 1, 2, 3, 4, 1, 2, 3, 4, 1, 2, 3, 4, 1, 2, 3, 4, 4, 1, 2, 3, 4, 1, 2, 3, 4, 1, 2, 3, 4, 1, 2, 3, 4, 3, 1, 1, 2, 3, 4, 1, 2, 3, 4, 1, 3, 3, 2, 1, 2, 3, 4, 1, 2, 3, 1, 2, 3, 4, 1, 2, 3, 4, 1, 2, 3, 4, 3, 1, 2, 1, 2, 3, 4, 1, 2, 3, 4, 1, 2, 3, 4, 1, 2, 3, 4, 1, 2, 3, 4, 1, 2, 3, 4, 1, 2, 3, 4, 4, 3, 1, 2, 3, 4, 1, 2, 3, 4, 1, 4, 1, 2, 3, 4, 1, 2, 3, 4, 1, 2, 3, 4, 1, 1, 2, 3, 4, 1, 2, 3, 4, 1, 1, 2, 3, 4, 1, 1, 1, 4, 1, 2, 3, 4, 1, 2, 3, 4, 1, 2, 3, 4, 1, 2, 3, 4, 4, 2, 3, 4, 1, 2, 3, 4, 1, 2, 3, 4, 1, 2, 3, 4, 1, 1, 2, 1, 2, 1, 2, 3, 4, 2, 1, 2, 3, 4, 1, 2, 3, 4, 1, 2, 3, 4, 4, 4, 1, 2, 3, 4, 1, 2, 3, 4, 1, 2, 3, 4, 1, 2, 3, 4, 3, 1, 2, 3, 4, 1, 2, 3, 4, 3, 3, 1, 2, 3, 4, 4, 1, 2, 3, 4, 1, 2, 3, 4, 4, 1, 3, 1, 2, 3, 4, 4, 1, 1, 2, 3, 4, 2, 1, 3, 1, 2, 3, 4, 1, 2, 3, 4, 1, 2, 3, 3, 4, 1, 1, 2, 3, 4, 1, 2, 3, 1, 2, 3, 4, 4, 1, 2, 4, 2, 4, 1, 2, 3, 4, 1, 2, 3, 1, 2, 3, 4, 1, 2, 3, 4, 1, 1, 4, 3, 1, 2, 3, 4, 1, 2, 3, 4, 1, 2, 3, 4, 1, 2, 3, 4, 2, 1, 2, 3, 4, 1, 2, 3, 4, 4, 1, 2, 3, 4, 4, 4, 2, 2, 1, 2, 3, 4, 1, 1, 2, 3, 4, 1, 2, 3, 4, 1, 1, 2, 3, 4, 1, 2, 3, 4, 1, 2, 3, 4, 1, 2, 3, 4, 1, 2, 3, 4, 3, 1, 2, 4, 1, 3, 4, 4, 1, 2, 3, 4, 1, 2, 3, 4, 1, 2, 3, 4, 1, 2, 3, 4, 4, 1, 2, 3, 4, 1, 2, 3, 4, 1, 4, 1, 2, 3, 4, 1, 2, 3, 4, 1, 2, 3, 4], \"Freq\": [0.20004025651555554, 0.6001207695466666, 0.8074703249977929, 0.13510625042273056, 0.6755312521136528, 0.13510625042273056, 0.13510625042273056, 0.6072019450155254, 0.2737407463376743, 0.46926985086458456, 0.11731746271614614, 0.1564232836215282, 0.2294442613279848, 0.1147221306639924, 0.4588885226559696, 0.2294442613279848, 0.7854371588919388, 0.306430967038048, 0.21532986872943916, 0.33127672112221407, 0.14079260647694097, 0.1727481183367712, 0.8637405916838561, 0.6060312945502047, 0.26422753377565716, 0.3048779235872967, 0.14227636434073848, 0.3048779235872967, 0.6911578238738441, 0.17278945596846101, 0.7231900794020877, 0.7016189807289945, 0.2338729935763315, 0.8053156895721613, 0.140781800386977, 0.23463633397829498, 0.46927266795658995, 0.140781800386977, 0.8074221346544571, 0.11092058698267224, 0.6655235218960334, 0.22184117396534447, 0.11092058698267224, 0.2411197915418682, 0.5626128469310258, 0.1607465276945788, 0.0803732638472894, 0.242494576788679, 0.20207881399056585, 0.16166305119245267, 0.36374186518301854, 0.608827205279488, 0.507236212429655, 0.11271915831770112, 0.22543831663540223, 0.1690787374765517, 0.8077175674500574, 0.6627710043452724, 0.3351988478615045, 0.29497498611812395, 0.24134317046028325, 0.1340795391446018, 0.12273610415172734, 0.5829964947207048, 0.0920520781137955, 0.184104156227591, 0.8063645718301751, 0.3002188024297987, 0.6004376048595974, 0.8809167272272856, 0.810561154948438, 0.20882463225072245, 0.3517046437906905, 0.1978338621322634, 0.23080617248764063, 0.6044903301597182, 0.7337449463946573, 0.24458164879821911, 0.20013545723207177, 0.8005418289282871, 0.2817767778671309, 0.46108927287348694, 0.15369642429116231, 0.10246428286077487, 0.8067854888764759, 0.34715133251230273, 0.34715133251230273, 0.245047999420449, 0.07147233316429763, 0.24223551670288987, 0.7267065501086696, 0.3466748179616327, 0.15757946270983306, 0.4412224955875325, 0.09454767762589983, 0.2415503557690725, 0.7246510673072175, 0.20317096316754368, 0.0580488466192982, 0.2321953864771928, 0.4934151962640347, 0.723772901992347, 0.58223259716669, 0.06849795260784587, 0.1712448815196147, 0.1712448815196147, 0.41066768382179936, 0.17339302205809304, 0.2646525073518262, 0.14601517646997308, 0.7333368048567412, 0.24444560161891374, 0.8381209146290007, 0.16762418292580014, 0.15007981886849686, 0.7503990943424843, 0.7012268181975296, 0.7892763183947722, 0.13154605306579537, 0.13154605306579537, 0.13154605306579537, 0.8828668659012592, 0.30333038307723853, 0.24715808991478694, 0.2246891726498063, 0.2246891726498063, 0.8749153677989853, 0.6568665120572352, 0.28425882257211704, 0.4134673782867157, 0.2196545447148177, 0.09044598900021905, 0.3600831526089865, 0.17221368168255877, 0.1409021031948208, 0.31311578487737957, 0.8138546275213973, 0.8081748825618642, 0.21930046414915264, 0.6579013924474579, 0.8037765536648053, 0.17274069950570803, 0.6909627980228321, 0.4785415504365343, 0.22519602373483966, 0.18297176928455722, 0.12667276335084732, 0.5083396143605563, 0.18356708296353422, 0.16944653812018542, 0.15532599327683663, 0.8806564356387188, 0.8726549301671686, 0.2893637964771361, 0.22258753575164314, 0.4006575643529577, 0.08903501430065726, 0.7819012031045024, 0.7227431701814208, 0.1806857925453552, 0.0903428962726776, 0.0903428962726776, 0.18554212261972863, 0.18554212261972863, 0.556626367859186, 0.8806037513550108, 0.5020388830956714, 0.18496169377208943, 0.15853859466179093, 0.15853859466179093, 0.8067725560406537, 0.255943855008872, 0.17062923667258134, 0.08531461833629067, 0.511887710017744, 0.43497009898435923, 0.19713589720498528, 0.19713589720498528, 0.09856794860249264, 0.4928397430124632, 0.1518111769586373, 0.2024149026115164, 0.55664098218167, 0.1518111769586373, 0.1764636991802782, 0.20587431571032458, 0.5293910975408346, 0.0882318495901391, 0.8056833558175408, 0.20146755445651077, 0.6044026633695323, 0.7817432448304814, 0.13029054080508023, 0.13029054080508023, 0.15164790571823392, 0.15164790571823392, 0.6065916228729357, 0.15164790571823392, 0.1434698609715858, 0.1434698609715858, 0.5738794438863432, 0.12133748819012131, 0.6066874409506066, 0.24267497638024263, 0.12133748819012131, 0.8072522779939538, 0.13091027481050876, 0.13091027481050876, 0.13091027481050876, 0.6545513740525438, 0.16602458427800143, 0.27670764046333574, 0.11068305618533429, 0.47040298878767073, 0.15011830351467675, 0.600473214058707, 0.15011830351467675, 0.24126069096840996, 0.19300855277472798, 0.144756414581046, 0.38601710554945595, 0.3282083282253745, 0.24029538316500632, 0.22857365715695724, 0.20513020514085906, 0.7818977636354486, 0.20084024928739294, 0.8033609971495718, 0.17299107490633844, 0.6919642996253538, 0.17299107490633844, 0.23900461888631366, 0.07966820629543789, 0.6373456503635031, 0.07966820629543789, 0.20037654650471073, 0.6011296395141322, 0.13358436433647383, 0.06679218216823692, 0.605914298772059, 0.8715399277569541, 0.16209258265323848, 0.12156943698992886, 0.32418516530647695, 0.36470831096978656, 0.6076998166957055, 0.25219604322935185, 0.12609802161467593, 0.18914703242201386, 0.4413430756513657, 0.7000306496755502, 0.8102305018257334, 0.21651351982169695, 0.21651351982169695, 0.6495405594650909, 0.34406262850352715, 0.08601565712588179, 0.430078285629409, 0.1290234856888227, 0.6028627118208072, 0.51821593138758, 0.1511463133213775, 0.25910796569379, 0.08636932189793, 0.5488663492539019, 0.1688819536165852, 0.10555122101036575, 0.1688819536165852, 0.3739728125635097, 0.1586551326027011, 0.1586551326027011, 0.30597775573378067, 0.1309093821710311, 0.1309093821710311, 0.1309093821710311, 0.6545469108551555, 0.7810448778836135, 0.23521898635666924, 0.2016162740200022, 0.4368352603766714, 0.13441084934666814, 0.8075358348189329, 0.36131970834251453, 0.2944086512420489, 0.13382211420093132, 0.20073317130139698, 0.40418462044065306, 0.2536060363549196, 0.1981297159022809, 0.14265339544964226, 0.31208594885218494, 0.15604297442609247, 0.15604297442609247, 0.36410027366088243, 0.29378067367403043, 0.28248141699426005, 0.22598513359540806, 0.20338662023586723, 0.17209059839428079, 0.17209059839428079, 0.6883623935771231, 0.6377875865965175, 0.1275575173193035, 0.1275575173193035, 0.1275575173193035, 0.35271509507276955, 0.1856395237225103, 0.22276742846701236, 0.24133138083926337, 0.6748226915532555, 0.16870567288831387, 0.3671743193894928, 0.2129611052459058, 0.20561761885811594, 0.2129611052459058, 0.4029069040779896, 0.16414725721695875, 0.26860460271865977, 0.16414725721695875, 0.41428505169196267, 0.15343890803406024, 0.15343890803406024, 0.2761900344613084, 0.5499538972988086, 0.07173311703897503, 0.23911039012991678, 0.14346623407795006, 0.16161656650442235, 0.42020307291149817, 0.2262631931061913, 0.19393987980530683, 0.1873993970582474, 0.1873993970582474, 0.5153483419101803, 0.14054954779368553, 0.6061432332882937, 0.4516839711355594, 0.2441534979111132, 0.19532279832889057, 0.10986907406000095, 0.7833373115768755, 0.6109456767721201, 0.26079358918990475, 0.7823807675697143, 0.8766780178256477, 0.28143895237140804, 0.4048094520410664, 0.11180451532562785, 0.20047706196319479, 0.24775780229563385, 0.46454587930431346, 0.0929091758608627, 0.2013032143652025, 0.0780710470049542, 0.1561420940099084, 0.5464973290346794, 0.3122841880198168, 0.38157683449431884, 0.24617860289956053, 0.2338696727545825, 0.14770716173973633, 0.8721842326578133, 0.7412298717112605, 0.12353831195187676, 0.06176915597593838, 0.06176915597593838, 0.4287574487705347, 0.3400490110938723, 0.13306265651499352, 0.10349317728943941, 0.44904417889789816, 0.22452208944894908, 0.20955395015235248, 0.11974511437277284, 0.5733524427079659, 0.1911174809026553, 0.15289398472212423, 0.07644699236106212, 0.8126516622262143, 0.8780792243572915, 0.2777241595632017, 0.1851494397088011, 0.4628735992720028, 0.09257471985440055, 0.15273993679341225, 0.07636996839670612, 0.610959747173649, 0.15273993679341225, 0.7824402344681556, 0.8048048046775932, 0.8023655406224398, 0.9079858529864581, 0.20691664343605215, 0.48280550135078837, 0.20691664343605215, 0.10345832171802608, 0.17262667873084384, 0.6905067149233753, 0.17262667873084384, 0.24870579350525707, 0.09326467256447141, 0.3108822418815714, 0.3108822418815714, 0.3853707586955032, 0.4094564311139722, 0.0963426896738758, 0.12042836209234475, 0.375373233941803, 0.13406186926492963, 0.21449899082388743, 0.29493611238284523, 0.805277521796756, 0.2004804564423731, 0.8019218257694924, 0.3618749771417743, 0.2600976398206503, 0.2827148258920112, 0.09046874428544358, 0.298365370689466, 0.3418769872483465, 0.23620591846249392, 0.11810295923124696, 0.20035837780793953, 0.20035837780793953, 0.5610034578622306, 0.0801433511231758, 0.41996782541730565, 0.22310790725294363, 0.262479890885816, 0.09186796181003562, 0.4970122041377441, 0.19003407805266687, 0.2119610870587438, 0.09501703902633343, 0.17960174065805873, 0.13470130549354406, 0.35920348131611746, 0.35920348131611746, 0.7028484066317284, 0.11714140110528808, 0.11714140110528808, 0.11714140110528808, 0.8737372256897027, 0.8050260154851435, 0.3693421796886626, 0.2726097040559176, 0.22864039695012447, 0.1319079213173795, 0.26834842831132744, 0.1916774487938053, 0.07667097951752212, 0.46002587710513276, 0.7323733100049539, 0.14647466200099077, 0.31639087500440344, 0.31639087500440344, 0.16572855357373514, 0.21092725000293563, 0.24165906894858255, 0.7249772068457476, 0.7585655144790432, 0.15171310289580864, 0.3434904416948937, 0.32996719595887425, 0.13252780821299048, 0.19473473859867987, 0.6999447324724293, 0.10966535498654913, 0.10966535498654913, 0.7676574849058438, 0.10966535498654913, 0.6000835483431609, 0.17649516127740025, 0.07059806451096011, 0.17649516127740025, 0.7020039993789533, 0.45768406836739495, 0.18646387970523498, 0.24579329597508248, 0.11018320164400248, 0.9325073389729088, 0.7005303167828769, 0.3280222992912903, 0.6560445985825806, 0.4409140399784822, 0.28887471584797114, 0.13683539171746, 0.13683539171746, 0.5313746950829811, 0.21777651437827092, 0.1393769692020934, 0.11324378747670089, 0.49971332371171323, 0.2806609078380855, 0.13006237192496647, 0.09583543194471213, 0.4777850580090961, 0.16810955744764491, 0.20350104322609647, 0.15926168600303203, 0.6555980982104419, 0.16249082222009914, 0.3249816444401983, 0.6499632888803966, 0.3244500904395557, 0.12166878391483338, 0.3447282210920279, 0.2027813065247223, 0.3816573040581906, 0.349852528720008, 0.11131671368363892, 0.15902387669091272, 0.2955692251249953, 0.41051281267360457, 0.21346666259027436, 0.08210256253472091, 0.7779342404736798, 0.7323717261757117, 0.14647434523514233, 0.17218683969560883, 0.6887473587824353, 0.2553325485792924, 0.44102894754605043, 0.18569639896675807, 0.11606024935422381, 0.7295077775397404, 0.13586105626455194, 0.06793052813227597, 0.6113747531904837, 0.2037915843968279, 0.2903886559292086, 0.30421668716393285, 0.30421668716393285, 0.09679621864306953, 0.2820565286393507, 0.4583418590389449, 0.17628533039959418, 0.07051413215983768, 0.6536206495810774, 0.8760612169628258, 0.2560016509770063, 0.24000154779094338, 0.14400092867456604, 0.35200227009338364, 0.35905538329813935, 0.11968512776604645, 0.43884546847550365, 0.0797900851773643, 0.28754977059989356, 0.14377488529994678, 0.47924961766648927, 0.09584992353329785, 0.29369711079231237, 0.18356069424519522, 0.14684855539615618, 0.36712138849039044, 0.6093316243022449, 0.3500347153419167, 0.16043257786504517, 0.32086515573009033, 0.16043257786504517, 0.2993124447259188, 0.1632613334868648, 0.4625737782127836, 0.0816306667434324, 0.6049309765489989, 0.8584721019314162, 0.1294809181547915, 0.1294809181547915, 0.1294809181547915, 0.517923672619166, 0.78959280202743, 0.4344695053193584, 0.26331485170870206, 0.11849168326891593, 0.18432039619609145, 0.1901919594662653, 0.3043071351460245, 0.24724954730614487, 0.2662687432527714, 0.653733624097477, 0.24117340390892106, 0.7235202117267632, 0.6075139499398464, 0.1845611999817255, 0.12304079998781699, 0.08459054999162417, 0.6531532364820137, 0.8754281665743484, 0.31901518878865226, 0.2627183907671254, 0.31901518878865226, 0.09382799670254478, 0.8072574533397802, 0.7801317089035431, 0.19503292722588578, 0.1862137258606361, 0.1862137258606361, 0.1862137258606361, 0.5586411775819082, 0.22569100318004948, 0.3159674044520693, 0.19559886942270954, 0.2557831369373894, 0.668680369560153, 0.16717009239003824, 0.16717009239003824, 0.8041203593359572, 0.7949976021390963, 0.7072719572968542, 0.3738304697426093, 0.44859656369113116, 0.11214914092278279, 0.07476609394852185, 0.7295460239155183, 0.14590920478310365, 0.14590920478310365, 0.37015382912767275, 0.16194230024335685, 0.3470192148071932, 0.11567307160239775, 0.6624022626896768, 0.7378512570904211, 0.14757025141808422, 0.14757025141808422, 0.2608650932651048, 0.5217301865302096, 0.6874000159567019, 0.09820000227952883, 0.09820000227952883, 0.09820000227952883, 0.20080280420888377, 0.20080280420888377, 0.6024084126266513, 0.31587152725595197, 0.05264525454265866, 0.4738072908839279, 0.15793576362797598, 0.15269469568455865, 0.15269469568455865, 0.07634734784227933, 0.6107787827382346, 0.7829832182504222, 0.8802627156869298, 0.655305185743652, 0.8060170390876561, 0.27023713898747687, 0.13511856949373843, 0.43913535085464994, 0.16889821186717305, 0.5193666477501335, 0.23082962122228157, 0.12365872565479369, 0.12365872565479369, 0.3978889755972815, 0.20497310864102378, 0.18085862527149157, 0.21703035032578988, 0.35521166355674644, 0.14800485981531103, 0.14800485981531103, 0.35521166355674644, 0.7261692209217279, 0.29248833040989625, 0.38998444054652837, 0.1787428685838255, 0.1381194893602288, 0.29381471860692565, 0.1728321874158386, 0.29381471860692565, 0.24196506238217405, 0.880584120153009, 0.43848989829113505, 0.18055466400223208, 0.22354386971704923, 0.15476114057334178, 0.43542520626000136, 0.4360586643575067, 0.6046347280532959, 0.7295057515951778, 0.1213106056862015, 0.6065530284310074, 0.1213106056862015, 0.1213106056862015, 0.7819092096468285, 0.3899731689687442, 0.22939598174632012, 0.24660068037729413, 0.13763758904779205, 0.37256535687323905, 0.39917716807847037, 0.1330590560261568, 0.07983543361569408, 0.8831341181247094, 0.13432283361252803, 0.6716141680626402, 0.13432283361252803, 0.13432283361252803, 0.3636294984239743, 0.4628011798123309, 0.13222890851780883, 0.03305722712945221, 0.5782460793155143, 0.17347382379465429, 0.14456151982887858, 0.08673691189732714, 0.17319315556546266, 0.17319315556546266, 0.6927726222618507, 0.17319315556546266, 0.5027160270983052, 0.09425925508093222, 0.11520575621002827, 0.2932510158073447, 0.8082881271287394, 0.7362392583770152, 0.14724785167540302, 0.14724785167540302, 0.7814913270545341, 0.09768641588181676, 0.09768641588181676, 0.786763966106797, 0.32019153061666233, 0.23593060150701434, 0.16852185821929597, 0.26963497315087354, 0.10039453765772235, 0.10039453765772235, 0.7027617636040565, 0.10039453765772235, 0.5772323661274565, 0.1492842326191698, 0.13933195044455848, 0.1343558093572528, 0.38585225714289345, 0.21704189464287757, 0.2532155437500238, 0.14469459642858504, 0.8782952903417668, 0.321274243709299, 0.2234951260586428, 0.19555823530131244, 0.2654004621946383, 0.14620184336249997, 0.07310092168124999, 0.51170645176875, 0.29240368672499994, 0.2617156366704546, 0.7851469100113639, 0.24421139072717982, 0.20111526295179513, 0.2873075185025645, 0.27294214257743626, 0.6548452187989906, 0.15716285251175774, 0.13096904375979812, 0.07858142625587887, 0.16055102043729072, 0.16055102043729072, 0.6422040817491629, 0.08027551021864536], \"Term\": [\"abril\", \"abril\", \"acompanamiento\", \"acto\", \"acto\", \"acto\", \"acto\", \"aleman\", \"alla\", \"alla\", \"alla\", \"alla\", \"amigos\", \"amigos\", \"amigos\", \"amigos\", \"ampliar\", \"anos\", \"anos\", \"anos\", \"anos\", \"aportan\", \"aportan\", \"aprobo\", \"articulo\", \"articulo\", \"articulo\", \"articulo\", \"audiencias\", \"audiencias\", \"aulas\", \"autores\", \"autores\", \"avila\", \"bulos\", \"bulos\", \"bulos\", \"bulos\", \"calienta\", \"cambios\", \"cambios\", \"cambios\", \"cambios\", \"capaz\", \"capaz\", \"capaz\", \"capaz\", \"cara\", \"cara\", \"cara\", \"cara\", \"centrada\", \"ceuta\", \"ceuta\", \"ceuta\", \"ceuta\", \"chocolate\", \"ciclica\", \"cierto\", \"cierto\", \"cierto\", \"cierto\", \"ciertos\", \"ciertos\", \"ciertos\", \"ciertos\", \"colacion\", \"colas\", \"colas\", \"colgar\", \"colocarme\", \"comentarios\", \"comentarios\", \"comentarios\", \"comentarios\", \"compartirlo\", \"compensar\", \"compensar\", \"competencia\", \"competencia\", \"complicado\", \"complicado\", \"complicado\", \"complicado\", \"comprension\", \"comunicacion\", \"comunicacion\", \"comunicacion\", \"comunicacion\", \"conlleva\", \"conlleva\", \"conocer\", \"conocer\", \"conocer\", \"conocer\", \"conociendo\", \"conociendo\", \"conozco\", \"conozco\", \"conozco\", \"conozco\", \"consume\", \"contacto\", \"contacto\", \"contacto\", \"contacto\", \"contar\", \"contar\", \"contar\", \"contar\", \"contundente\", \"contundente\", \"convertir\", \"convertir\", \"costas\", \"costas\", \"cruce\", \"cubierto\", \"cubierto\", \"cubierto\", \"cubierto\", \"cuelgo\", \"cuenta\", \"cuenta\", \"cuenta\", \"cuenta\", \"cuestionar\", \"culpables\", \"datos\", \"datos\", \"datos\", \"datos\", \"debate\", \"debate\", \"debate\", \"debate\", \"declarada\", \"dedicada\", \"dedicado\", \"dedicado\", \"demostrando\", \"den\", \"den\", \"dentro\", \"dentro\", \"dentro\", \"dentro\", \"derechos\", \"derechos\", \"derechos\", \"derechos\", \"desahogarse\", \"desconectada\", \"dias\", \"dias\", \"dias\", \"dias\", \"dificilmente\", \"digital\", \"digital\", \"digital\", \"digital\", \"discapacidad\", \"discapacidad\", \"discapacidad\", \"discrepancia\", \"discursos\", \"discursos\", \"discursos\", \"discursos\", \"discutido\", \"discuto\", \"discuto\", \"discuto\", \"discuto\", \"diseccionar\", \"economia\", \"economia\", \"economia\", \"economia\", \"edad\", \"edad\", \"edad\", \"edad\", \"educacion\", \"educacion\", \"educacion\", \"educacion\", \"educacional\", \"efe\", \"efe\", \"emocion\", \"emocion\", \"emocion\", \"empresa\", \"empresa\", \"empresa\", \"empresa\", \"encuentro\", \"encuentro\", \"encuentro\", \"energia\", \"energia\", \"energia\", \"energia\", \"enesima\", \"escenario\", \"escenario\", \"escenario\", \"escenario\", \"escribir\", \"escribir\", \"escribir\", \"escribir\", \"esencial\", \"esencial\", \"esencial\", \"esfuerzo\", \"esfuerzo\", \"esfuerzo\", \"esfuerzo\", \"espana\", \"espana\", \"espana\", \"espana\", \"espanto\", \"espera\", \"espera\", \"estadisticas\", \"estadisticas\", \"estadisticas\", \"estrecho\", \"estrecho\", \"estrecho\", \"estrecho\", \"etico\", \"etico\", \"etico\", \"etico\", \"evitarlo\", \"excelente\", \"experiencia\", \"experiencia\", \"experiencia\", \"experiencia\", \"expulsar\", \"feedback\", \"feedback\", \"feedback\", \"feedback\", \"fiable\", \"financiado\", \"fisicos\", \"fisicos\", \"fisicos\", \"fotos\", \"fotos\", \"fotos\", \"fotos\", \"frio\", \"frontera\", \"frontera\", \"frontera\", \"frontera\", \"fuente\", \"fuente\", \"fuente\", \"fuente\", \"fuentes\", \"fuentes\", \"fuentes\", \"fuentes\", \"gestionar\", \"gestionar\", \"gestionar\", \"gestionar\", \"globalizacion\", \"grupo\", \"grupo\", \"grupo\", \"grupo\", \"guio\", \"hablando\", \"hablando\", \"hablando\", \"hablando\", \"hablar\", \"hablar\", \"hablar\", \"hablar\", \"hablo\", \"hablo\", \"hablo\", \"hablo\", \"haciendo\", \"haciendo\", \"haciendo\", \"haciendo\", \"hambre\", \"hambre\", \"hambre\", \"hechos\", \"hechos\", \"hechos\", \"hechos\", \"hice\", \"hice\", \"hice\", \"hice\", \"hilo\", \"hilo\", \"historia\", \"historia\", \"historia\", \"historia\", \"historias\", \"historias\", \"historias\", \"historias\", \"hora\", \"hora\", \"hora\", \"hora\", \"iba\", \"iba\", \"iba\", \"iba\", \"ido\", \"ido\", \"ido\", \"ido\", \"imagen\", \"imagen\", \"imagen\", \"imagen\", \"imaginar\", \"importante\", \"importante\", \"importante\", \"importante\", \"impulso\", \"india\", \"indigna\", \"indigna\", \"infierno\", \"informacion\", \"informacion\", \"informacion\", \"informacion\", \"informaciones\", \"informaciones\", \"informaciones\", \"informaciones\", \"ingreso\", \"ingreso\", \"ingreso\", \"ingreso\", \"inmigrantes\", \"inmigrantes\", \"inmigrantes\", \"inmigrantes\", \"inquieta\", \"intentamos\", \"intentamos\", \"intentamos\", \"intentamos\", \"intentar\", \"intentar\", \"intentar\", \"intentar\", \"intento\", \"intento\", \"intento\", \"intento\", \"internet\", \"internet\", \"internet\", \"internet\", \"iranies\", \"irme\", \"italia\", \"italia\", \"italia\", \"italia\", \"junta\", \"junta\", \"junta\", \"junta\", \"laberinto\", \"leche\", \"legislando\", \"legislativos\", \"ley\", \"ley\", \"ley\", \"ley\", \"leyes\", \"leyes\", \"leyes\", \"libro\", \"libro\", \"libro\", \"libro\", \"linea\", \"linea\", \"linea\", \"linea\", \"llegan\", \"llegan\", \"llegan\", \"llegan\", \"luis\", \"marketing\", \"marketing\", \"medio\", \"medio\", \"medio\", \"medio\", \"medios\", \"medios\", \"medios\", \"medios\", \"menor\", \"menor\", \"menor\", \"menor\", \"menores\", \"menores\", \"menores\", \"menores\", \"migrantes\", \"migrantes\", \"migrantes\", \"migrantes\", \"minimo\", \"minimo\", \"minimo\", \"minimo\", \"ministerio\", \"ministerio\", \"ministerio\", \"ministerio\", \"mostrarse\", \"motril\", \"mundo\", \"mundo\", \"mundo\", \"mundo\", \"musulmanes\", \"musulmanes\", \"musulmanes\", \"musulmanes\", \"naciones\", \"naciones\", \"nadie\", \"nadie\", \"nadie\", \"nadie\", \"necesitamos\", \"necesitamos\", \"nina\", \"nina\", \"odio\", \"odio\", \"odio\", \"odio\", \"ofensivo\", \"operacion\", \"operacion\", \"operacion\", \"operacion\", \"opiniones\", \"opiniones\", \"opiniones\", \"opiniones\", \"opositores\", \"pais\", \"pais\", \"pais\", \"pais\", \"parecidas\", \"parentesis\", \"participo\", \"participo\", \"periodico\", \"periodico\", \"periodico\", \"periodico\", \"periodismo\", \"periodismo\", \"periodismo\", \"periodismo\", \"periodista\", \"periodista\", \"periodista\", \"periodista\", \"periodistas\", \"periodistas\", \"periodistas\", \"periodistas\", \"pida\", \"plena\", \"plena\", \"plena\", \"poblacion\", \"poblacion\", \"poblacion\", \"poblacion\", \"podemos\", \"podemos\", \"podemos\", \"podemos\", \"poder\", \"poder\", \"poder\", \"poder\", \"pongan\", \"poniendo\", \"poniendo\", \"posibilidad\", \"posibilidad\", \"posible\", \"posible\", \"posible\", \"posible\", \"potentes\", \"presidente\", \"presidente\", \"presidente\", \"presidente\", \"problema\", \"problema\", \"problema\", \"problema\", \"profesion\", \"profesion\", \"profesion\", \"profesion\", \"promotor\", \"psicologia\", \"publico\", \"publico\", \"publico\", \"publico\", \"pueblo\", \"pueblo\", \"pueblo\", \"pueblo\", \"puerta\", \"puerta\", \"puerta\", \"puerta\", \"puesto\", \"puesto\", \"puesto\", \"puesto\", \"quisimos\", \"racismo\", \"racismo\", \"racismo\", \"racismo\", \"racista\", \"racista\", \"racista\", \"racista\", \"rapidos\", \"raval\", \"raza\", \"raza\", \"raza\", \"raza\", \"razas\", \"realidad\", \"realidad\", \"realidad\", \"realidad\", \"realmente\", \"realmente\", \"realmente\", \"realmente\", \"recien\", \"recogiendo\", \"recogiendo\", \"redes\", \"redes\", \"redes\", \"redes\", \"refrito\", \"refugees\", \"refugiados\", \"refugiados\", \"refugiados\", \"refugiados\", \"regimos\", \"registro\", \"registro\", \"relativamente\", \"relativamente\", \"relativamente\", \"relativamente\", \"reportaje\", \"reportaje\", \"reportaje\", \"reportaje\", \"reporteros\", \"reporteros\", \"reporteros\", \"represento\", \"requiere\", \"resisti\", \"respeto\", \"respeto\", \"respeto\", \"respeto\", \"ridiculo\", \"ridiculo\", \"ridiculo\", \"risas\", \"risas\", \"risas\", \"risas\", \"roban\", \"rollo\", \"rollo\", \"rollo\", \"romanos\", \"romanos\", \"saben\", \"saben\", \"saben\", \"saben\", \"sara\", \"sara\", \"sara\", \"senegal\", \"senegal\", \"senegal\", \"senegal\", \"senora\", \"senora\", \"senora\", \"senora\", \"serbio\", \"sesgado\", \"silencio\", \"sincera\", \"sistema\", \"sistema\", \"sistema\", \"sistema\", \"sociales\", \"sociales\", \"sociales\", \"sociales\", \"sociedad\", \"sociedad\", \"sociedad\", \"sociedad\", \"suelo\", \"suelo\", \"suelo\", \"suelo\", \"suma\", \"temas\", \"temas\", \"temas\", \"temas\", \"tenia\", \"tenia\", \"tenia\", \"tenia\", \"tertulia\", \"tiempo\", \"tiempo\", \"tiempo\", \"tiempo\", \"tienden\", \"tiendo\", \"titula\", \"titulamos\", \"titulares\", \"titulares\", \"titulares\", \"titulares\", \"tomadas\", \"trabajo\", \"trabajo\", \"trabajo\", \"trabajo\", \"tratar\", \"tratar\", \"tratar\", \"tratar\", \"tratarles\", \"tratas\", \"tratas\", \"tratas\", \"tratas\", \"trato\", \"trato\", \"trato\", \"trato\", \"traves\", \"traves\", \"traves\", \"traves\", \"turistas\", \"turistas\", \"turistas\", \"turistas\", \"twitter\", \"twitter\", \"twitter\", \"twitter\", \"ultimas\", \"unicef\", \"unicef\", \"unicef\", \"util\", \"util\", \"util\", \"varon\", \"vas\", \"vas\", \"vas\", \"vas\", \"vengan\", \"vengan\", \"vengan\", \"vengan\", \"verdad\", \"verdad\", \"verdad\", \"verdad\", \"vida\", \"vida\", \"vida\", \"vida\", \"visibilizarlo\", \"visto\", \"visto\", \"visto\", \"visto\", \"vital\", \"vital\", \"vital\", \"vital\", \"vivian\", \"vivian\", \"vox\", \"vox\", \"vox\", \"vox\", \"voz\", \"voz\", \"voz\", \"voz\", \"vuelta\", \"vuelta\", \"vuelta\", \"vuelta\"]}, \"R\": 30, \"lambda.step\": 0.01, \"plot.opts\": {\"xlab\": \"PC1\", \"ylab\": \"PC2\"}, \"topic.order\": [3, 2, 4, 1]};\n",
              "\n",
              "function LDAvis_load_lib(url, callback){\n",
              "  var s = document.createElement('script');\n",
              "  s.src = url;\n",
              "  s.async = true;\n",
              "  s.onreadystatechange = s.onload = callback;\n",
              "  s.onerror = function(){console.warn(\"failed to load library \" + url);};\n",
              "  document.getElementsByTagName(\"head\")[0].appendChild(s);\n",
              "}\n",
              "\n",
              "if(typeof(LDAvis) !== \"undefined\"){\n",
              "   // already loaded: just create the visualization\n",
              "   !function(LDAvis){\n",
              "       new LDAvis(\"#\" + \"ldavis_el211140282666464192651706213\", ldavis_el211140282666464192651706213_data);\n",
              "   }(LDAvis);\n",
              "}else if(typeof define === \"function\" && define.amd){\n",
              "   // require.js is available: use it to load d3/LDAvis\n",
              "   require.config({paths: {d3: \"https://d3js.org/d3.v5\"}});\n",
              "   require([\"d3\"], function(d3){\n",
              "      window.d3 = d3;\n",
              "      LDAvis_load_lib(\"https://cdn.jsdelivr.net/gh/bmabey/pyLDAvis@3.4.0/pyLDAvis/js/ldavis.v3.0.0.js\", function(){\n",
              "        new LDAvis(\"#\" + \"ldavis_el211140282666464192651706213\", ldavis_el211140282666464192651706213_data);\n",
              "      });\n",
              "    });\n",
              "}else{\n",
              "    // require.js not available: dynamically load d3 & LDAvis\n",
              "    LDAvis_load_lib(\"https://d3js.org/d3.v5.js\", function(){\n",
              "         LDAvis_load_lib(\"https://cdn.jsdelivr.net/gh/bmabey/pyLDAvis@3.4.0/pyLDAvis/js/ldavis.v3.0.0.js\", function(){\n",
              "                 new LDAvis(\"#\" + \"ldavis_el211140282666464192651706213\", ldavis_el211140282666464192651706213_data);\n",
              "            })\n",
              "         });\n",
              "}\n",
              "</script>"
            ]
          },
          "metadata": {},
          "execution_count": 81
        }
      ]
    },
    {
      "cell_type": "code",
      "metadata": {
        "id": "CnFTh0u7S541"
      },
      "source": [
        "# Take a look to the texts and their topics\n",
        "topics = pd.DataFrame([dict(lda_model.get_document_topics(doc, minimum_probability=0.1))\n",
        "                      for doc in corpus])\n",
        "meta = entrevistas.iloc[entrevistas.index].drop(columns=[0]).reset_index(drop=True)\n",
        "tpd = pd.concat([meta, topics], axis=1)\n",
        "tpd [:50]"
      ],
      "execution_count": null,
      "outputs": []
    }
  ]
}